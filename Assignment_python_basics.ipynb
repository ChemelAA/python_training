{
 "cells": [
  {
   "cell_type": "markdown",
   "id": "2b78b159",
   "metadata": {},
   "source": [
    "### Q1. Define each data type, and give an example."
   ]
  },
  {
   "cell_type": "code",
   "execution_count": 7,
   "id": "03582e32",
   "metadata": {},
   "outputs": [
    {
     "name": "stdout",
     "output_type": "stream",
     "text": [
      "Type of \"i\" is <class 'int'>\n",
      "Type of \"pi\" is <class 'float'>\n",
      "Type of \"s\" is <class 'str'>\n"
     ]
    }
   ],
   "source": [
    "# a) Integer\n",
    "'''\n",
    "An integer datatype represents whole numbers without fractional or decimal parts.\n",
    "The beauty of Python is that, unlike many other programming languages, it has by\n",
    "default integers of unlimited size.\n",
    "'''\n",
    "\n",
    "i = 10**40\n",
    "print(f'Type of \"i\" is {type(i)}')\n",
    "\n",
    "\n",
    "# b) Float\n",
    "'''\n",
    "A floating-point number is a data type that represents numbers with a decimal part. \n",
    "'''\n",
    "\n",
    "pi = 3.14159265\n",
    "print(f'Type of \"pi\" is {type(pi)}')\n",
    "\n",
    "\n",
    "# c) String\n",
    "'''\n",
    "A string datatype is used to represent a sequence of characters.\n",
    "'''\n",
    "\n",
    "s = \"Do Androids Dream of Electric Sheep?\"\n",
    "print(f'Type of \"s\" is {type(s)}')"
   ]
  },
  {
   "cell_type": "markdown",
   "id": "c7485eb9",
   "metadata": {},
   "source": [
    "### Q2. What data type is each value? Use the `type` function to verify."
   ]
  },
  {
   "cell_type": "code",
   "execution_count": 9,
   "id": "c3477fd4",
   "metadata": {},
   "outputs": [
    {
     "name": "stdout",
     "output_type": "stream",
     "text": [
      "Type of 3 is <class 'int'>\n",
      "Type of 4.5 is <class 'float'>\n",
      "Type of 6.0 is <class 'float'>\n",
      "Type of hello is <class 'str'>\n",
      "Type of 3.14159 is <class 'str'>\n",
      "Type of 3.141592653589793 is <class 'float'>\n"
     ]
    }
   ],
   "source": [
    "import math\n",
    "\n",
    "a = 3\n",
    "b = 4.5\n",
    "c = 6.0\n",
    "d = \"hello\"\n",
    "e = \"3.14159\"\n",
    "f = math.pi\n",
    "\n",
    "questions = (a, b, c, d, e, f)\n",
    "for q in questions:\n",
    "    print(f'Type of {q} is {type(q)}')"
   ]
  },
  {
   "cell_type": "markdown",
   "id": "59429119",
   "metadata": {},
   "source": [
    "### Q3. Use the `type` function to identify the data type of each result. Are there any that do not work?"
   ]
  },
  {
   "cell_type": "code",
   "execution_count": 13,
   "id": "950e0697",
   "metadata": {},
   "outputs": [
    {
     "name": "stdout",
     "output_type": "stream",
     "text": [
      "Type of 3 + 7 is <class 'int'>\n",
      "Type of 5 + 6.0 is <class 'float'>\n",
      "Type of 6 / 3.0 is <class 'float'>\n",
      "Type of 6.0 // 3.0 is <class 'float'>\n",
      "Type of \"Py\" + \"thon\" is <class 'str'>\n",
      "Initial Exception Message: can only concatenate str (not \"int\") to str\n"
     ]
    }
   ],
   "source": [
    "print(f'Type of 3 + 7 is {type(3 + 7)}')\n",
    "print(f'Type of 5 + 6.0 is {type(5 + 6.0)}')\n",
    "print(f'Type of 6 / 3.0 is {type(6 / 3.0)}')\n",
    "print(f'Type of 6.0 // 3.0 is {type(6.0 // 3.0)}')\n",
    "print(f'Type of \"Py\" + \"thon\" is {type(\"Py\" + \"thon\")}')\n",
    "# The following one will raise a TypeError\n",
    "try:\n",
    "    print(f'Type of \"High\" + 5 is {type(\"High\" + 5)}')\n",
    "except TypeError as tr:\n",
    "    print(\"Initial Exception Message:\", str(tr))"
   ]
  },
  {
   "cell_type": "markdown",
   "id": "14c860d5",
   "metadata": {},
   "source": [
    "### Q4. Which variable names are *acceptable*, and which are *not*? If a variable name is unacceptable, explain why."
   ]
  },
  {
   "cell_type": "code",
   "execution_count": 14,
   "id": "4833cd1b",
   "metadata": {},
   "outputs": [
    {
     "name": "stdout",
     "output_type": "stream",
     "text": [
      "4\n"
     ]
    }
   ],
   "source": [
    "'''\n",
    "a. num          # Acceptable\n",
    "b. AGE          # Acceptable\n",
    "c. FiRsTnAmE    # Acceptable\n",
    "d. _count       # Acceptable\n",
    "e. 2nd_card     # Unacceptable - variable names cannot start with a digit \n",
    "f. card_2       # Acceptable\n",
    "g. card 2       # Unacceptable - variable names cannot contain spaces\n",
    "h. lambda       # Unacceptable - 'lambda' is a reserved keyword in Python used to define anonymous functions\n",
    "'''\n",
    "# Example\n",
    "func = lambda x, y: x + y\n",
    "print(func(1, 3))"
   ]
  },
  {
   "cell_type": "markdown",
   "id": "ddf85ae1",
   "metadata": {},
   "source": [
    "### Q5. Choose a meaningful variable name to represent each scenario."
   ]
  },
  {
   "cell_type": "code",
   "execution_count": 15,
   "id": "4ec9b333",
   "metadata": {},
   "outputs": [],
   "source": [
    "#a. The number of cards dealt to a player.\n",
    "num_cards_dealt = 2\n",
    "\n",
    "#b. An employee's monthly salary.\n",
    "monthly_salary = 3500\n",
    "\n",
    "#c. The sum of the values rolled by two dice.\n",
    "sum_dice_values = 4 + 3\n",
    "\n",
    "#d. The temperature on a hot summer day.\n",
    "day_temperature = 30"
   ]
  },
  {
   "cell_type": "markdown",
   "id": "b22540cb",
   "metadata": {},
   "source": [
    "### Q6. Assign the values `x=\"house\", y=\"boat\" and z=\"ha\"`. What is the result of each statement? Which do not work, and why?"
   ]
  },
  {
   "cell_type": "code",
   "execution_count": 23,
   "id": "488cea8d",
   "metadata": {},
   "outputs": [
    {
     "name": "stdout",
     "output_type": "stream",
     "text": [
      "houseboat\n",
      "boathouse\n",
      "hahaha\n",
      "TypeError: string multiplication is not allowed adn actually makes no sense\n",
      "TypeError: impossible to concatenate str to int\n",
      "boat2\n"
     ]
    }
   ],
   "source": [
    "x, y, z = \"house\", \"boat\", \"ha\"\n",
    "\n",
    "# a. x+y\n",
    "print(x + y)\n",
    "\n",
    "# b. y+x\n",
    "print(y + x)\n",
    "\n",
    "# c. z*3\n",
    "print(z * 3)\n",
    "\n",
    "# d. z*x\n",
    "try:\n",
    "    print(z * x)\n",
    "except TypeError as tr:\n",
    "    print(\"TypeError: string multiplication is not allowed adn actually makes no sense\")\n",
    "\n",
    "# e. x+2\n",
    "try:\n",
    "    print(x + 2)\n",
    "except TypeError as tr:\n",
    "    print(\"TypeError: impossible to concatenate str to int\")\n",
    "\n",
    "# f. y+\"2\"\n",
    "print(y + \"2\")"
   ]
  },
  {
   "cell_type": "markdown",
   "id": "303040f9",
   "metadata": {},
   "source": [
    "### Q7. Assign the values `base=10` and `height=5`. Calculate the area of a triangle using the formula `A = (1/2)*b*h` and assign the value to the variable `area`. Echo this value."
   ]
  },
  {
   "cell_type": "code",
   "execution_count": 24,
   "id": "20fe7782",
   "metadata": {},
   "outputs": [
    {
     "name": "stdout",
     "output_type": "stream",
     "text": [
      "25.0\n"
     ]
    }
   ],
   "source": [
    "base = 10\n",
    "height = 5\n",
    "area = 0.5 * base * height\n",
    "print(area)"
   ]
  },
  {
   "cell_type": "markdown",
   "id": "b9d52855",
   "metadata": {},
   "source": [
    "### Q8. Execute the following sequence of commands in the shell, then state the final value of `k`."
   ]
  },
  {
   "cell_type": "code",
   "execution_count": 25,
   "id": "0565b262",
   "metadata": {},
   "outputs": [
    {
     "name": "stdout",
     "output_type": "stream",
     "text": [
      "2\n"
     ]
    }
   ],
   "source": [
    "k = 7    # 7\n",
    "k += 3   # 10\n",
    "k *= 2   # 20\n",
    "k -= 5   # 15\n",
    "k //= 6  # 2\n",
    "print(k)"
   ]
  },
  {
   "cell_type": "markdown",
   "id": "f231f2df",
   "metadata": {},
   "source": [
    "### Q9. Explain why the following run-time error occurs."
   ]
  },
  {
   "cell_type": "markdown",
   "id": "16cd9f7e",
   "metadata": {},
   "source": [
    "```python\n",
    ">>> number = 8\n",
    ">>> Number += 1\n",
    "Traceback (most recent call last):\n",
    "    File \"<pyshell>\", line 1, in <module>\n",
    "NameError: name 'Number' is not defined\n",
    "```"
   ]
  },
  {
   "cell_type": "code",
   "execution_count": 27,
   "id": "20fc4198",
   "metadata": {},
   "outputs": [],
   "source": [
    "# This happened because Python is case sensitive and there is no variable 'Number' in the namespace, only 'number'"
   ]
  },
  {
   "cell_type": "markdown",
   "id": "fff68c5d",
   "metadata": {},
   "source": [
    "#### Q10. Python is a dynamically-typed language: a variable’s data *type* can change as necessary. Assign the value `x=4`, then use check its type using the `type` function. What data type is it? Increment `x` by 1, using the `+=` operator, then check its type again. Did it change? If so, what data type is it? Increment `x` by 1.0, then check its type. Did it change? If so, what data type is it?"
   ]
  },
  {
   "cell_type": "code",
   "execution_count": 28,
   "id": "33abc17c",
   "metadata": {},
   "outputs": [
    {
     "name": "stdout",
     "output_type": "stream",
     "text": [
      "<class 'int'>\n",
      "<class 'int'>\n",
      "<class 'float'>\n"
     ]
    }
   ],
   "source": [
    "x = 4\n",
    "print(type(x)) # Int\n",
    "\n",
    "x += 1\n",
    "print(type(x)) # Int\n",
    "\n",
    "x += 1.0\n",
    "print(type(x)) # Float"
   ]
  }
 ],
 "metadata": {
  "kernelspec": {
   "display_name": "Python 3 (ipykernel)",
   "language": "python",
   "name": "python3"
  },
  "language_info": {
   "codemirror_mode": {
    "name": "ipython",
    "version": 3
   },
   "file_extension": ".py",
   "mimetype": "text/x-python",
   "name": "python",
   "nbconvert_exporter": "python",
   "pygments_lexer": "ipython3",
   "version": "3.9.16"
  }
 },
 "nbformat": 4,
 "nbformat_minor": 5
}
